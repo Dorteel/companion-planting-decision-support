{
 "cells": [
  {
   "cell_type": "code",
   "execution_count": 138,
   "id": "388fcac2",
   "metadata": {},
   "outputs": [],
   "source": [
    "import pandas as pd\n",
    "import math"
   ]
  },
  {
   "cell_type": "code",
   "execution_count": 151,
   "id": "e5130222",
   "metadata": {},
   "outputs": [],
   "source": [
    "######\n"
   ]
  },
  {
   "cell_type": "code",
   "execution_count": 190,
   "id": "8fd2507d",
   "metadata": {},
   "outputs": [],
   "source": [
    "taxon = pd.read_csv('taxon-product.csv') #item - taxon - product - productLabel\n",
    "cp = pd.read_csv('companion-planting-wikidata-latin.csv') #name id latin\n",
    "cp= cp.rename(columns ={'id': 'item'})\n",
    "cp.item = cp.item.apply(lambda x: f'http://www.wikidata.org/entity/{x}')"
   ]
  },
  {
   "cell_type": "code",
   "execution_count": 210,
   "id": "f6a9207d",
   "metadata": {},
   "outputs": [],
   "source": [
    "for column in cp.columns:\n",
    "    cp[f'{column}'] = cp[f'{column}'].str.lower()\n",
    "for column in taxon.columns:\n",
    "    taxon[f'{column}'] = taxon[f'{column}'].str.lower()\n",
    "\n",
    "merged = taxon.merge(cp, how = 'outer', on='item')\n",
    "merged  = merged [['item','taxon','latin','name','product','productLabel']]\n",
    "def combItem(a,b):\n",
    "    if a == b:\n",
    "        return a\n",
    "    if not pd.isnull(b):\n",
    "        return b\n",
    "    return a\n",
    "\n",
    "merged['taxon']= merged.apply(lambda x: combItem(x.taxon, x.latin) ,axis=1)\n",
    "result= merged.drop(['latin'],axis=1)[['taxon', 'name', 'item', 'productLabel', 'product']]\n",
    "result =result.rename(columns= {'name':'plantCommonName','item':'plantWikidata', 'productLabel': 'productCommonName',\n",
    "                       'product': 'productWikidata'}).drop_duplicates()\n",
    "\n",
    "### changes in names\n",
    "diff = {'beans':'bean'}\n",
    "result.plantCommonName = result.plantCommonName.apply(lambda x: diff[x] if x in diff.keys() else x)\n",
    "\n",
    "result.to_csv('./names-taxon-products.csv')"
   ]
  },
  {
   "cell_type": "code",
   "execution_count": 230,
   "id": "7e513cc5",
   "metadata": {},
   "outputs": [],
   "source": [
    "r2 = result.copy()\n",
    "r2.plantCommonName = r2.plantCommonName.apply(lambda x:  x[0:-1])\n",
    "r2 = pd.concat([result,r2])[['plantCommonName','taxon']]"
   ]
  },
  {
   "cell_type": "code",
   "execution_count": 231,
   "id": "d974e4e7",
   "metadata": {},
   "outputs": [
    {
     "data": {
      "text/html": [
       "<div>\n",
       "<style scoped>\n",
       "    .dataframe tbody tr th:only-of-type {\n",
       "        vertical-align: middle;\n",
       "    }\n",
       "\n",
       "    .dataframe tbody tr th {\n",
       "        vertical-align: top;\n",
       "    }\n",
       "\n",
       "    .dataframe thead th {\n",
       "        text-align: right;\n",
       "    }\n",
       "</style>\n",
       "<table border=\"1\" class=\"dataframe\">\n",
       "  <thead>\n",
       "    <tr style=\"text-align: right;\">\n",
       "      <th></th>\n",
       "      <th>v1</th>\n",
       "      <th>v2</th>\n",
       "      <th>rel</th>\n",
       "    </tr>\n",
       "  </thead>\n",
       "  <tbody>\n",
       "    <tr>\n",
       "      <th>0</th>\n",
       "      <td>apple</td>\n",
       "      <td>chives</td>\n",
       "      <td>companion</td>\n",
       "    </tr>\n",
       "    <tr>\n",
       "      <th>1</th>\n",
       "      <td>apple</td>\n",
       "      <td>garlic</td>\n",
       "      <td>companion</td>\n",
       "    </tr>\n",
       "    <tr>\n",
       "      <th>2</th>\n",
       "      <td>apple</td>\n",
       "      <td>grass</td>\n",
       "      <td>antagonistic</td>\n",
       "    </tr>\n",
       "    <tr>\n",
       "      <th>3</th>\n",
       "      <td>apple</td>\n",
       "      <td>horseradish</td>\n",
       "      <td>companion</td>\n",
       "    </tr>\n",
       "    <tr>\n",
       "      <th>4</th>\n",
       "      <td>apple</td>\n",
       "      <td>lemon balm</td>\n",
       "      <td>companion</td>\n",
       "    </tr>\n",
       "    <tr>\n",
       "      <th>...</th>\n",
       "      <td>...</td>\n",
       "      <td>...</td>\n",
       "      <td>...</td>\n",
       "    </tr>\n",
       "    <tr>\n",
       "      <th>539</th>\n",
       "      <td>yarrow</td>\n",
       "      <td>grass</td>\n",
       "      <td>companion</td>\n",
       "    </tr>\n",
       "    <tr>\n",
       "      <th>540</th>\n",
       "      <td>yarrow</td>\n",
       "      <td>tansy</td>\n",
       "      <td>companion</td>\n",
       "    </tr>\n",
       "    <tr>\n",
       "      <th>541</th>\n",
       "      <td>zucchini</td>\n",
       "      <td>corn</td>\n",
       "      <td>companion</td>\n",
       "    </tr>\n",
       "    <tr>\n",
       "      <th>542</th>\n",
       "      <td>zucchini</td>\n",
       "      <td>marjoram</td>\n",
       "      <td>companion</td>\n",
       "    </tr>\n",
       "    <tr>\n",
       "      <th>543</th>\n",
       "      <td>zucchini</td>\n",
       "      <td>nasturtium</td>\n",
       "      <td>companion</td>\n",
       "    </tr>\n",
       "  </tbody>\n",
       "</table>\n",
       "<p>544 rows × 3 columns</p>\n",
       "</div>"
      ],
      "text/plain": [
       "           v1           v2           rel\n",
       "0       apple       chives     companion\n",
       "1       apple       garlic     companion\n",
       "2       apple        grass  antagonistic\n",
       "3       apple  horseradish     companion\n",
       "4       apple   lemon balm     companion\n",
       "..        ...          ...           ...\n",
       "539    yarrow        grass     companion\n",
       "540    yarrow        tansy     companion\n",
       "541  zucchini         corn     companion\n",
       "542  zucchini     marjoram     companion\n",
       "543  zucchini   nasturtium     companion\n",
       "\n",
       "[544 rows x 3 columns]"
      ]
     },
     "execution_count": 231,
     "metadata": {},
     "output_type": "execute_result"
    }
   ],
   "source": [
    "comp = pd.read_csv('companion-planting.csv', names = ['v1','v2','rel'], sep =';')\n",
    "comp.v1 = comp.v1.str.lower()\n",
    "comp.v2 = comp.v2.str.lower()\n",
    "comp"
   ]
  },
  {
   "cell_type": "code",
   "execution_count": 232,
   "id": "2b07333b",
   "metadata": {},
   "outputs": [],
   "source": [
    "comp1 = comp.merge(r2, how = 'left', left_on = 'v1', right_on = 'plantCommonName')\n",
    "comp2 = comp1.merge(r2, how = 'left', left_on = 'v2', right_on = 'plantCommonName',suffixes = ('_v1','_v2')).drop_duplicates()"
   ]
  },
  {
   "cell_type": "code",
   "execution_count": 235,
   "id": "c6d8b9ad",
   "metadata": {},
   "outputs": [],
   "source": [
    "comp2[['v1','taxon_v1','v2','taxon_v2','rel']].drop_duplicates().to_csv('./companion_plants_including_taxon.csv')"
   ]
  },
  {
   "cell_type": "code",
   "execution_count": null,
   "id": "c62c508e",
   "metadata": {},
   "outputs": [],
   "source": []
  },
  {
   "cell_type": "code",
   "execution_count": null,
   "id": "bbef073d",
   "metadata": {},
   "outputs": [],
   "source": []
  }
 ],
 "metadata": {
  "kernelspec": {
   "display_name": "Python 3 (ipykernel)",
   "language": "python",
   "name": "python3"
  },
  "language_info": {
   "codemirror_mode": {
    "name": "ipython",
    "version": 3
   },
   "file_extension": ".py",
   "mimetype": "text/x-python",
   "name": "python",
   "nbconvert_exporter": "python",
   "pygments_lexer": "ipython3",
   "version": "3.11.5"
  }
 },
 "nbformat": 4,
 "nbformat_minor": 5
}
