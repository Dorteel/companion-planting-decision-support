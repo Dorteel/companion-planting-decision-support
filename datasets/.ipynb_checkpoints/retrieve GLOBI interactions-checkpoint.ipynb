{
 "cells": [
  {
   "cell_type": "markdown",
   "id": "5e46bf20",
   "metadata": {},
   "source": [
    "## Load plant names"
   ]
  },
  {
   "cell_type": "code",
   "execution_count": 40,
   "id": "e9b1f234",
   "metadata": {},
   "outputs": [],
   "source": [
    "import pandas as pd\n",
    "import inflect\n",
    "\n",
    "csv = '../datasets/companion-planting-wikidata-latin.csv'\n",
    "df = pd.read_csv(csv)\n",
    "taxon_names = []\n",
    "interactions = []\n",
    "globi_uris = []"
   ]
  },
  {
   "cell_type": "code",
   "execution_count": 2,
   "id": "ed89b48f",
   "metadata": {
    "scrolled": true
   },
   "outputs": [
    {
     "data": {
      "text/html": [
       "<div>\n",
       "<style scoped>\n",
       "    .dataframe tbody tr th:only-of-type {\n",
       "        vertical-align: middle;\n",
       "    }\n",
       "\n",
       "    .dataframe tbody tr th {\n",
       "        vertical-align: top;\n",
       "    }\n",
       "\n",
       "    .dataframe thead th {\n",
       "        text-align: right;\n",
       "    }\n",
       "</style>\n",
       "<table border=\"1\" class=\"dataframe\">\n",
       "  <thead>\n",
       "    <tr style=\"text-align: right;\">\n",
       "      <th></th>\n",
       "      <th>name</th>\n",
       "      <th>id</th>\n",
       "      <th>latin</th>\n",
       "    </tr>\n",
       "  </thead>\n",
       "  <tbody>\n",
       "    <tr>\n",
       "      <th>0</th>\n",
       "      <td>Shallots</td>\n",
       "      <td>Q193498</td>\n",
       "      <td>Allium ascalonicum</td>\n",
       "    </tr>\n",
       "    <tr>\n",
       "      <th>1</th>\n",
       "      <td>Cabbages</td>\n",
       "      <td>Q146212</td>\n",
       "      <td>Brassica oleracea</td>\n",
       "    </tr>\n",
       "    <tr>\n",
       "      <th>2</th>\n",
       "      <td>Garlic</td>\n",
       "      <td>Q23400</td>\n",
       "      <td>Allium sativum</td>\n",
       "    </tr>\n",
       "    <tr>\n",
       "      <th>3</th>\n",
       "      <td>Basil</td>\n",
       "      <td>Q38859</td>\n",
       "      <td>Ocimum basilicum</td>\n",
       "    </tr>\n",
       "    <tr>\n",
       "      <th>4</th>\n",
       "      <td>Grape Vine</td>\n",
       "      <td>Q30046</td>\n",
       "      <td>Vitis vinifera</td>\n",
       "    </tr>\n",
       "  </tbody>\n",
       "</table>\n",
       "</div>"
      ],
      "text/plain": [
       "         name       id               latin\n",
       "0    Shallots  Q193498  Allium ascalonicum\n",
       "1    Cabbages  Q146212   Brassica oleracea\n",
       "2      Garlic   Q23400      Allium sativum\n",
       "3       Basil   Q38859    Ocimum basilicum\n",
       "4  Grape Vine   Q30046      Vitis vinifera"
      ]
     },
     "execution_count": 2,
     "metadata": {},
     "output_type": "execute_result"
    }
   ],
   "source": [
    "df.head()"
   ]
  },
  {
   "cell_type": "markdown",
   "id": "e4c60125",
   "metadata": {},
   "source": [
    "## Retrieve wikidata info (if necessary) "
   ]
  },
  {
   "cell_type": "code",
   "execution_count": 3,
   "id": "342e7328",
   "metadata": {
    "collapsed": true
   },
   "outputs": [
    {
     "name": "stdout",
     "output_type": "stream",
     "text": [
      "EndPointInternalError: The endpoint returned the HTTP status code 500. \n",
      "\n",
      "Response:\n",
      "b\"SPARQL-QUERY: queryStr=\\n    SELECT distinct ?taxon ?taxonName ?commonName WHERE {\\n      ?taxon wdt:P225 ?taxonName.\\n      #?taxon wdt:P1843 ?commonName .\\n      ?taxon rdfs:label ?commonName .\\n      FILTER(CONTAINS(STR(?commonName),'shallot')) . \\n      FILTER(lang(?commonName)='en')\\n      }  \\n      limit 3 \\n      \\njava.util.concurrent.TimeoutException\\n\\tat java.util.concurrent.FutureTask.get(FutureTask.java:205)\\n\\tat com.bigdata.rdf.sail.webapp.BigdataServlet.submitApiTask(BigdataServlet.java:292)\\n\\tat com.bigdata.rdf.sail.webapp.QueryServlet.doSparqlQuery(QueryServlet.java:678)\\n\\tat com.bigdata.rdf.sail.webapp.QueryServlet.doGet(QueryServlet.java:290)\\n\\tat com.bigdata.rdf.sail.webapp.RESTServlet.doGet(RESTServlet.java:240)\\n\\tat com.bigdata.rdf.sail.webapp.MultiTenancyServlet.doGet(MultiTenancyServlet.java:273)\\n\\tat javax.servlet.http.HttpServlet.service(HttpServlet.java:687)\\n\\tat javax.servlet.http.HttpServlet.service(HttpServlet.java:790)\\n\\tat org.eclipse.jetty.servlet.ServletHolder.handle(ServletHolder.java:865)\\n\\tat org.eclipse.jetty.servlet.ServletHandler$CachedChain.doFilter(ServletHandler.java:1655)\\n\\tat org.wikidata.query.rdf.blazegraph.throttling.ThrottlingFilter.doFilter(ThrottlingFilter.java:320)\\n\\tat org.eclipse.jetty.servlet.ServletHandler$CachedChain.doFilter(ServletHandler.java:1642)\\n\\tat org.wikidata.query.rdf.blazegraph.throttling.SystemOverloadFilter.doFilter(SystemOverloadFilter.java:82)\\n\\tat org.eclipse.jetty.servlet.ServletHandler$CachedChain.doFilter(ServletHandler.java:1642)\\n\\tat ch.qos.logback.classic.helpers.MDCInsertingServletFilter.doFilter(MDCInsertingServletFilter.java:50)\\n\\tat org.eclipse.jetty.servlet.ServletHandler$CachedChain.doFilter(ServletHandler.java:1642)\\n\\tat org.wikidata.query.rdf.blazegraph.filters.QueryEventSenderFilter.doFilter(QueryEventSenderFilter.java:119)\\n\\tat org.eclipse.jetty.servlet.ServletHandler$CachedChain.doFilter(ServletHandler.java:1642)\\n\\tat org.wikidata.query.rdf.blazegraph.filters.ClientIPFilter.doFilter(ClientIPFilter.java:43)\\n\\tat org.eclipse.jetty.servlet.ServletHandler$CachedChain.doFilter(ServletHandler.java:1642)\\n\\tat org.wikidata.query.rdf.blazegraph.filters.JWTIdentityFilter.doFilter(JWTIdentityFilter.java:66)\\n\\tat org.eclipse.jetty.servlet.ServletHandler$CachedChain.doFilter(ServletHandler.java:1642)\\n\\tat org.wikidata.query.rdf.blazegraph.filters.RealAgentFilter.doFilter(RealAgentFilter.java:33)\\n\\tat org.eclipse.jetty.servlet.ServletHandler$CachedChain.doFilter(ServletHandler.java:1642)\\n\\tat org.wikidata.query.rdf.blazegraph.filters.RequestConcurrencyFilter.doFilter(RequestConcurrencyFilter.java:50)\\n\\tat org.eclipse.jetty.servlet.ServletHandler$CachedChain.doFilter(ServletHandler.java:1634)\\n\\tat org.eclipse.jetty.servlet.ServletHandler.doHandle(ServletHandler.java:533)\\n\\tat org.eclipse.jetty.server.handler.ScopedHandler.handle(ScopedHandler.java:146)\\n\\tat org.eclipse.jetty.security.SecurityHandler.handle(SecurityHandler.java:548)\\n\\tat org.eclipse.jetty.server.handler.HandlerWrapper.handle(HandlerWrapper.java:132)\\n\\tat org.eclipse.jetty.server.handler.ScopedHandler.nextHandle(ScopedHandler.java:257)\\n\\tat org.eclipse.jetty.server.session.SessionHandler.doHandle(SessionHandler.java:1595)\\n\\tat org.eclipse.jetty.server.handler.ScopedHandler.nextHandle(ScopedHandler.java:255)\\n\\tat org.eclipse.jetty.server.handler.ContextHandler.doHandle(ContextHandler.java:1340)\\n\\tat org.eclipse.jetty.server.handler.ScopedHandler.nextScope(ScopedHandler.java:203)\\n\\tat org.eclipse.jetty.servlet.ServletHandler.doScope(ServletHandler.java:473)\\n\\tat org.eclipse.jetty.server.session.SessionHandler.doScope(SessionHandler.java:1564)\\n\\tat org.eclipse.jetty.server.handler.ScopedHandler.nextScope(ScopedHandler.java:201)\\n\\tat org.eclipse.jetty.server.handler.ContextHandler.doScope(ContextHandler.java:1242)\\n\\tat org.eclipse.jetty.server.handler.ScopedHandler.handle(ScopedHandler.java:144)\\n\\tat org.eclipse.jetty.server.handler.ContextHandlerCollection.handle(ContextHandlerCollection.java:220)\\n\\tat org.eclipse.jetty.server.handler.HandlerCollection.handle(HandlerCollection.java:126)\\n\\tat org.eclipse.jetty.server.handler.HandlerWrapper.handle(HandlerWrapper.java:132)\\n\\tat org.eclipse.jetty.server.Server.handle(Server.java:503)\\n\\tat org.eclipse.jetty.server.HttpChannel.handle(HttpChannel.java:364)\\n\\tat org.eclipse.jetty.server.HttpConnection.onFillable(HttpConnection.java:260)\\n\\tat org.eclipse.jetty.io.AbstractConnection$ReadCallback.succeeded(AbstractConnection.java:305)\\n\\tat org.eclipse.jetty.io.FillInterest.fillable(FillInterest.java:103)\\n\\tat org.eclipse.jetty.io.ChannelEndPoint$2.run(ChannelEndPoint.java:118)\\n\\tat org.eclipse.jetty.util.thread.strategy.EatWhatYouKill.runTask(EatWhatYouKill.java:333)\\n\\tat org.eclipse.jetty.util.thread.strategy.EatWhatYouKill.doProduce(EatWhatYouKill.java:310)\\n\\tat org.eclipse.jetty.util.thread.strategy.EatWhatYouKill.tryProduce(EatWhatYouKill.java:168)\\n\\tat org.eclipse.jetty.util.thread.strategy.EatWhatYouKill.run(EatWhatYouKill.java:126)\\n\\tat org.eclipse.jetty.util.thread.ReservedThreadExecutor$ReservedThread.run(ReservedThreadExecutor.java:366)\\n\\tat org.eclipse.jetty.util.thread.QueuedThreadPool.runJob(QueuedThreadPool.java:765)\\n\\tat org.eclipse.jetty.util.thread.QueuedThreadPool$2.run(QueuedThreadPool.java:683)\\n\\tat java.lang.Thread.run(Thread.java:750)\\n\"\n",
      "EndPointInternalError: The endpoint returned the HTTP status code 500. \n",
      "\n",
      "Response:\n",
      "b\"SPARQL-QUERY: queryStr=\\n    SELECT distinct ?taxon ?taxonName ?commonName WHERE {\\n      ?taxon wdt:P225 ?taxonName.\\n      #?taxon wdt:P1843 ?commonName .\\n      ?taxon rdfs:label ?commonName .\\n      FILTER(CONTAINS(STR(?commonName),'cabbage')) . \\n      FILTER(lang(?commonName)='en')\\n      }  \\n      limit 3 \\n      \\njava.util.concurrent.TimeoutException\\n\\tat java.util.concurrent.FutureTask.get(FutureTask.java:205)\\n\\tat com.bigdata.rdf.sail.webapp.BigdataServlet.submitApiTask(BigdataServlet.java:292)\\n\\tat com.bigdata.rdf.sail.webapp.QueryServlet.doSparqlQuery(QueryServlet.java:678)\\n\\tat com.bigdata.rdf.sail.webapp.QueryServlet.doGet(QueryServlet.java:290)\\n\\tat com.bigdata.rdf.sail.webapp.RESTServlet.doGet(RESTServlet.java:240)\\n\\tat com.bigdata.rdf.sail.webapp.MultiTenancyServlet.doGet(MultiTenancyServlet.java:273)\\n\\tat javax.servlet.http.HttpServlet.service(HttpServlet.java:687)\\n\\tat javax.servlet.http.HttpServlet.service(HttpServlet.java:790)\\n\\tat org.eclipse.jetty.servlet.ServletHolder.handle(ServletHolder.java:865)\\n\\tat org.eclipse.jetty.servlet.ServletHandler$CachedChain.doFilter(ServletHandler.java:1655)\\n\\tat org.wikidata.query.rdf.blazegraph.throttling.ThrottlingFilter.doFilter(ThrottlingFilter.java:320)\\n\\tat org.eclipse.jetty.servlet.ServletHandler$CachedChain.doFilter(ServletHandler.java:1642)\\n\\tat org.wikidata.query.rdf.blazegraph.throttling.SystemOverloadFilter.doFilter(SystemOverloadFilter.java:82)\\n\\tat org.eclipse.jetty.servlet.ServletHandler$CachedChain.doFilter(ServletHandler.java:1642)\\n\\tat ch.qos.logback.classic.helpers.MDCInsertingServletFilter.doFilter(MDCInsertingServletFilter.java:50)\\n\\tat org.eclipse.jetty.servlet.ServletHandler$CachedChain.doFilter(ServletHandler.java:1642)\\n\\tat org.wikidata.query.rdf.blazegraph.filters.QueryEventSenderFilter.doFilter(QueryEventSenderFilter.java:119)\\n\\tat org.eclipse.jetty.servlet.ServletHandler$CachedChain.doFilter(ServletHandler.java:1642)\\n\\tat org.wikidata.query.rdf.blazegraph.filters.ClientIPFilter.doFilter(ClientIPFilter.java:43)\\n\\tat org.eclipse.jetty.servlet.ServletHandler$CachedChain.doFilter(ServletHandler.java:1642)\\n\\tat org.wikidata.query.rdf.blazegraph.filters.JWTIdentityFilter.doFilter(JWTIdentityFilter.java:66)\\n\\tat org.eclipse.jetty.servlet.ServletHandler$CachedChain.doFilter(ServletHandler.java:1642)\\n\\tat org.wikidata.query.rdf.blazegraph.filters.RealAgentFilter.doFilter(RealAgentFilter.java:33)\\n\\tat org.eclipse.jetty.servlet.ServletHandler$CachedChain.doFilter(ServletHandler.java:1642)\\n\\tat org.wikidata.query.rdf.blazegraph.filters.RequestConcurrencyFilter.doFilter(RequestConcurrencyFilter.java:50)\\n\\tat org.eclipse.jetty.servlet.ServletHandler$CachedChain.doFilter(ServletHandler.java:1634)\\n\\tat org.eclipse.jetty.servlet.ServletHandler.doHandle(ServletHandler.java:533)\\n\\tat org.eclipse.jetty.server.handler.ScopedHandler.handle(ScopedHandler.java:146)\\n\\tat org.eclipse.jetty.security.SecurityHandler.handle(SecurityHandler.java:548)\\n\\tat org.eclipse.jetty.server.handler.HandlerWrapper.handle(HandlerWrapper.java:132)\\n\\tat org.eclipse.jetty.server.handler.ScopedHandler.nextHandle(ScopedHandler.java:257)\\n\\tat org.eclipse.jetty.server.session.SessionHandler.doHandle(SessionHandler.java:1595)\\n\\tat org.eclipse.jetty.server.handler.ScopedHandler.nextHandle(ScopedHandler.java:255)\\n\\tat org.eclipse.jetty.server.handler.ContextHandler.doHandle(ContextHandler.java:1340)\\n\\tat org.eclipse.jetty.server.handler.ScopedHandler.nextScope(ScopedHandler.java:203)\\n\\tat org.eclipse.jetty.servlet.ServletHandler.doScope(ServletHandler.java:473)\\n\\tat org.eclipse.jetty.server.session.SessionHandler.doScope(SessionHandler.java:1564)\\n\\tat org.eclipse.jetty.server.handler.ScopedHandler.nextScope(ScopedHandler.java:201)\\n\\tat org.eclipse.jetty.server.handler.ContextHandler.doScope(ContextHandler.java:1242)\\n\\tat org.eclipse.jetty.server.handler.ScopedHandler.handle(ScopedHandler.java:144)\\n\\tat org.eclipse.jetty.server.handler.ContextHandlerCollection.handle(ContextHandlerCollection.java:220)\\n\\tat org.eclipse.jetty.server.handler.HandlerCollection.handle(HandlerCollection.java:126)\\n\\tat org.eclipse.jetty.server.handler.HandlerWrapper.handle(HandlerWrapper.java:132)\\n\\tat org.eclipse.jetty.server.Server.handle(Server.java:503)\\n\\tat org.eclipse.jetty.server.HttpChannel.handle(HttpChannel.java:364)\\n\\tat org.eclipse.jetty.server.HttpConnection.onFillable(HttpConnection.java:260)\\n\\tat org.eclipse.jetty.io.AbstractConnection$ReadCallback.succeeded(AbstractConnection.java:305)\\n\\tat org.eclipse.jetty.io.FillInterest.fillable(FillInterest.java:103)\\n\\tat org.eclipse.jetty.io.ChannelEndPoint$2.run(ChannelEndPoint.java:118)\\n\\tat org.eclipse.jetty.util.thread.strategy.EatWhatYouKill.runTask(EatWhatYouKill.java:333)\\n\\tat org.eclipse.jetty.util.thread.strategy.EatWhatYouKill.doProduce(EatWhatYouKill.java:310)\\n\\tat org.eclipse.jetty.util.thread.strategy.EatWhatYouKill.tryProduce(EatWhatYouKill.java:168)\\n\\tat org.eclipse.jetty.util.thread.strategy.EatWhatYouKill.run(EatWhatYouKill.java:126)\\n\\tat org.eclipse.jetty.util.thread.ReservedThreadExecutor$ReservedThread.run(ReservedThreadExecutor.java:366)\\n\\tat org.eclipse.jetty.util.thread.QueuedThreadPool.runJob(QueuedThreadPool.java:765)\\n\\tat org.eclipse.jetty.util.thread.QueuedThreadPool$2.run(QueuedThreadPool.java:683)\\n\\tat java.lang.Thread.run(Thread.java:750)\\n\"\n"
     ]
    }
   ],
   "source": [
    "from SPARQLWrapper import SPARQLWrapper, JSON\n",
    "p = inflect.engine()\n",
    "\n",
    "for name in df[0:2].name: \n",
    "    \n",
    "    name = p.singular_noun(name, count=None)\n",
    "    sparql = SPARQLWrapper(\n",
    "        \"https://query.wikidata.org/sparql\"\n",
    "    )\n",
    "    sparql.setReturnFormat(JSON)\n",
    "\n",
    "    #query for latin name, order on length of string match (shorter = better)\n",
    "    sparql.setQuery(\"\"\"\n",
    "    SELECT distinct ?taxon ?taxonName ?commonName WHERE {\n",
    "      ?taxon wdt:P225 ?taxonName.\n",
    "      #?taxon wdt:P1843 ?commonName .\n",
    "      ?taxon rdfs:label ?commonName .\n",
    "      FILTER(CONTAINS(STR(?commonName),'\"\"\"+name.lower()+\"\"\"')) . \n",
    "      FILTER(lang(?commonName)='en')\n",
    "      } order by STRLEN(STR(?commonName))\n",
    "      limit 3 \n",
    "      \"\"\"\n",
    "    )\n",
    "    \n",
    "    try:\n",
    "        ret = sparql.queryAndConvert()\n",
    "\n",
    "        for r in ret[\"results\"][\"bindings\"]:\n",
    "            print(r)\n",
    "            taxon_names.append(r['taxonName']['value'])\n",
    "            \n",
    "    except Exception as e:\n",
    "        print(e)"
   ]
  },
  {
   "cell_type": "markdown",
   "id": "9269ce9c",
   "metadata": {},
   "source": [
    "## Or use latin names from dataframe"
   ]
  },
  {
   "cell_type": "code",
   "execution_count": 43,
   "id": "300765bc",
   "metadata": {},
   "outputs": [],
   "source": [
    "taxon_names = list(df['latin'].values)"
   ]
  },
  {
   "cell_type": "markdown",
   "id": "86227657",
   "metadata": {},
   "source": [
    "## Retrieve GLOBI IRIs for species (only necessary for SPARQL endpoint)"
   ]
  },
  {
   "cell_type": "code",
   "execution_count": null,
   "id": "96ffdd1d",
   "metadata": {},
   "outputs": [],
   "source": [
    "import requests\n",
    "\n",
    "for taxon_name in taxon_names: \n",
    "    taxon_name = taxon_name.replace(\" \",\"%20\")\n",
    "    URL = \"https://api.globalbioticinteractions.org/findExternalUrlForTaxon/\"+taxon_name\n",
    "    try: globi_uris.append(requests.get(URL).json()['url'])\n",
    "    except: globi_uris.append(None)\n"
   ]
  },
  {
   "cell_type": "markdown",
   "id": "d09ad052",
   "metadata": {},
   "source": [
    "## Retrieve GLOBI Interactions as nested list"
   ]
  },
  {
   "cell_type": "code",
   "execution_count": 44,
   "id": "e7708500",
   "metadata": {},
   "outputs": [],
   "source": [
    "import requests\n",
    "\n",
    "for taxon_name in taxon_names: \n",
    "    taxon_name = taxon_name.replace(\" \",\"%20\")\n",
    "    URL = \"https://api.globalbioticinteractions.org/taxon/\"+taxon_name+\"/interactsWith\"\n",
    "    try: interactions.append(requests.get(URL).json()['data'])\n",
    "    except: pass"
   ]
  },
  {
   "cell_type": "code",
   "execution_count": 55,
   "id": "3b88ca5e",
   "metadata": {},
   "outputs": [
    {
     "data": {
      "text/plain": [
       "[['Allium ascalonicum',\n",
       "  'eatenBy',\n",
       "  ['Acrolepiopsis assectella',\n",
       "   'Spodoptera exigua',\n",
       "   'Spodoptera litura',\n",
       "   'Blastobasis ochromorpha',\n",
       "   'Utetheisa pulchella']],\n",
       " ['Allium ascalonicum',\n",
       "  'hasPathogen',\n",
       "  ['Pyrenochaeta terrestris', 'Ditylenchus dipsaci']],\n",
       " ['Allium ascalonicum',\n",
       "  'hostOf',\n",
       "  ['Puccinia sessilis',\n",
       "   'Alternaria solani-nigri',\n",
       "   'Cladosporium allii',\n",
       "   'Colletotrichum circinans',\n",
       "   'Peronospora destructor',\n",
       "   'Blastobasis',\n",
       "   'Blastobasis ochromorpha',\n",
       "   'Utetheisa pulchella',\n",
       "   'Spodoptera exigua',\n",
       "   'Spodoptera litura',\n",
       "   'Cadra cautella',\n",
       "   'Dasyses rugosella',\n",
       "   'Acrolepiopsis assectella',\n",
       "   'Botrytis allii',\n",
       "   'Pyrenochaeta terrestris',\n",
       "   'Sclerotium cepivorum',\n",
       "   'Urocystis cepulae',\n",
       "   'Sclerotium rolfsii',\n",
       "   'Alternaria porri',\n",
       "   'Fusarium solani',\n",
       "   'Puccinia porri',\n",
       "   'Phytophthora parasitica',\n",
       "   'Rhizoctonia',\n",
       "   'Cylindrocladium parvum',\n",
       "   'Botrytis',\n",
       "   'Fusarium',\n",
       "   'Urocystis colchici',\n",
       "   'Acari',\n",
       "   'Colletotrichum gloeosporioides',\n",
       "   'Fusarium oxysporum',\n",
       "   'Phytophthora cryptogea',\n",
       "   'Melampsora allii-fragilis',\n",
       "   'Cercospora duddiae',\n",
       "   'Aspergillus niger',\n",
       "   'Phytophthora sp.',\n",
       "   'Pythium',\n",
       "   'Phytophthora porri',\n",
       "   'Gibberella zeae',\n",
       "   'Phyllostictina sp.',\n",
       "   'Puccinia allii',\n",
       "   'Botrytis aclada',\n",
       "   'Pleospora herbarum',\n",
       "   'Aspergillus',\n",
       "   'Botryotinia fuckeliana']],\n",
       " ['Allium ascalonicum',\n",
       "  'interactsWith',\n",
       "  ['Neotoxoptera formosana', 'Ditylenchus dipsaci']]]"
      ]
     },
     "execution_count": 55,
     "metadata": {},
     "output_type": "execute_result"
    }
   ],
   "source": [
    "interactions[0]"
   ]
  },
  {
   "cell_type": "markdown",
   "id": "4f2675b1",
   "metadata": {},
   "source": [
    "## TODO add as OWL axioms"
   ]
  },
  {
   "cell_type": "code",
   "execution_count": null,
   "id": "db605652",
   "metadata": {},
   "outputs": [],
   "source": []
  }
 ],
 "metadata": {
  "kernelspec": {
   "display_name": "Python 3 (ipykernel)",
   "language": "python",
   "name": "python3"
  },
  "language_info": {
   "codemirror_mode": {
    "name": "ipython",
    "version": 3
   },
   "file_extension": ".py",
   "mimetype": "text/x-python",
   "name": "python",
   "nbconvert_exporter": "python",
   "pygments_lexer": "ipython3",
   "version": "3.9.17"
  }
 },
 "nbformat": 4,
 "nbformat_minor": 5
}
