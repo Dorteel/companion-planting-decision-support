{
 "cells": [
  {
   "cell_type": "code",
   "execution_count": 106,
   "id": "a4e6e5da-e260-4430-9746-1be360f8de1e",
   "metadata": {},
   "outputs": [
    {
     "name": "stderr",
     "output_type": "stream",
     "text": [
      "  6%|█████████▊                                                                                                                                                          | 37/618 [00:02<00:41, 14.01it/s]"
     ]
    },
    {
     "name": "stdout",
     "output_type": "stream",
     "text": [
      "Failed to parse Echinocystis_lobata\n"
     ]
    },
    {
     "name": "stderr",
     "output_type": "stream",
     "text": [
      " 65%|█████████████████████████████████████████████████████████████████████████████████████████████████████████▌                                                         | 400/618 [01:20<01:06,  3.30it/s]"
     ]
    },
    {
     "name": "stdout",
     "output_type": "stream",
     "text": [
      "Failed to parse Zanthoxylum_piperitum\n"
     ]
    },
    {
     "name": "stderr",
     "output_type": "stream",
     "text": [
      " 80%|█████████████████████████████████████████████████████████████████████████████████████████████████████████████████████████████████▊                                 | 492/618 [01:51<00:42,  2.94it/s]"
     ]
    },
    {
     "name": "stdout",
     "output_type": "stream",
     "text": [
      "Failed to parse Secale_cereale_ancestrale\n"
     ]
    },
    {
     "name": "stderr",
     "output_type": "stream",
     "text": [
      "100%|███████████████████████████████████████████████████████████████████████████████████████████████████████████████████████████████████████████████████████████████████| 618/618 [02:45<00:00,  3.75it/s]\n"
     ]
    }
   ],
   "source": [
    "from decimal import Decimal\n",
    "from pathlib import Path\n",
    "import rdflib\n",
    "import tqdm\n",
    "\n",
    "files = Path('rdf').rglob('*')\n",
    "files = [f for f in files if f.name[0] != '.' and f.is_file()]\n",
    "total = rdflib.Graph()\n",
    "for f in tqdm.tqdm(files):\n",
    "    data = f.open().read().replace('Property-3A','').replace('Category-3A','').replace('.local', '.org')\n",
    "    g = rdflib.Graph()\n",
    "    try:\n",
    "        g.parse(data=data)\n",
    "        for t in g:\n",
    "            try:\n",
    "                n = Decimal(t[-1].split('/')[-1])\n",
    "                g.remove(t)\n",
    "                t = (t[0], t[1], rdflib.Literal(n))\n",
    "                g.add(t)\n",
    "            except:\n",
    "                pass\n",
    "            if str(t[-1]).strip() == 'Yes' or t[-1].endswith('Yes'):\n",
    "                g.remove(t)\n",
    "                t = (t[0], t[1], rdflib.Literal(True))\n",
    "                g.add(t)\n",
    "            if str(t[-1]).strip() == 'No' or t[-1].endswith('No'):\n",
    "                g.remove(t)\n",
    "                t = (t[0], t[1], rdflib.Literal(True))\n",
    "                g.add(t)\n",
    "            for n in t:\n",
    "                if any(bad in n.lower() for bad in ['swivt', '23aux', '-23', 'ontology', \n",
    "                                                    'catalog', 'common_name', 'unknown', 'jpg',\n",
    "                                                    'article', 'has_search_name',\n",
    "                                                   ]):\n",
    "                    g.remove(t)\n",
    "        total |= g\n",
    "    except Exception as e:\n",
    "        print('Failed to parse', f.name)\n",
    "total.serialize('practicalplants.ttl', format='ttl')"
   ]
  },
  {
   "cell_type": "code",
   "execution_count": null,
   "id": "607fa528-9db1-4ff8-b945-a139b9a88a47",
   "metadata": {},
   "outputs": [],
   "source": []
  }
 ],
 "metadata": {
  "kernelspec": {
   "display_name": "Python 3 (ipykernel)",
   "language": "python",
   "name": "python3"
  },
  "language_info": {
   "codemirror_mode": {
    "name": "ipython",
    "version": 3
   },
   "file_extension": ".py",
   "mimetype": "text/x-python",
   "name": "python",
   "nbconvert_exporter": "python",
   "pygments_lexer": "ipython3",
   "version": "3.11.5"
  }
 },
 "nbformat": 4,
 "nbformat_minor": 5
}
